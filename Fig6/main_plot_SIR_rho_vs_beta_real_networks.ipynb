{
 "cells": [
  {
   "cell_type": "code",
   "execution_count": 61,
   "id": "fb9d8f4d",
   "metadata": {},
   "outputs": [],
   "source": [
    "import sys\n",
    "sys.path.append('..')  # 添加上级目录到搜索路径\n",
    "from utils import *"
   ]
  },
  {
   "cell_type": "code",
   "execution_count": null,
   "id": "fe5c4ee0",
   "metadata": {},
   "outputs": [],
   "source": [
    "filename = [\"Blogs\", \"Metabolic\", \"Drosophila\", \"Music\", \"Airports\", \"Proteome\",\\\n",
    "            \"USpowergrid\", \"Gnutella\", \"Words\", \"DBLP\", \"Internet\", \"Enron\"]"
   ]
  },
  {
   "cell_type": "code",
   "execution_count": null,
   "id": "858f86bd",
   "metadata": {},
   "outputs": [
    {
     "name": "stdout",
     "output_type": "stream",
     "text": [
      "Enron\n"
     ]
    }
   ],
   "source": [
    "net_label = 0\n",
    "print(filename[net_label])\n",
    "G = load_graph_data(filename[net_label])\n",
    "N = len(G)"
   ]
  },
  {
   "cell_type": "code",
   "execution_count": 64,
   "id": "d2b39cfb",
   "metadata": {},
   "outputs": [],
   "source": [
    "# 设定移除节点比例\n",
    "if N < 10000:\n",
    "    l = 4\n",
    "elif N >= 10000 and N < 20000:\n",
    "    l = 5\n",
    "else:\n",
    "    l = 6"
   ]
  },
  {
   "cell_type": "code",
   "execution_count": 65,
   "id": "26bfcf5e",
   "metadata": {},
   "outputs": [],
   "source": [
    "rhoR = np.loadtxt(\"./SIR_rho_vs_beta/SIR_rho_vs_beta_\"+filename[net_label] + \"_DC_plus.dat\")\n",
    "rhoR_prune = np.loadtxt(\"./SIR_rho_vs_beta/kmin2/SIR_rho_vs_beta_prune_\"+filename[net_label] + \"_DC_plus.dat\")"
   ]
  },
  {
   "cell_type": "code",
   "execution_count": 66,
   "id": "3be94b50",
   "metadata": {},
   "outputs": [
    {
     "data": {
      "image/png": "[encoded data removed]",
      "text/plain": [
       "<Figure size 400x175 with 2 Axes>"
      ]
     },
     "metadata": {},
     "output_type": "display_data"
    }
   ],
   "source": [
    "fig, axs = plt.subplots(1, 2, figsize=(4, 1.75), constrained_layout=True)\n",
    "ax = axs[0]\n",
    "ax.plot(rhoR[:, 0], rhoR[:, 1], marker = 'o', markersize = 3.0, markerfacecolor=\"w\", linewidth = 1.0, clip_on=False, label=\"$l=$ \"+str(0))\n",
    "ax.plot(rhoR[:, 0], rhoR[:, 2], marker = 's', markersize = 3.0, markerfacecolor=\"w\", linewidth = 1.0, clip_on=False, label=\"$l=$ \"+str(1))\n",
    "ax.plot(rhoR[:, 0], rhoR[:, 3], marker = 'D', markersize = 3.0, markerfacecolor=\"w\", linewidth = 1.0, clip_on=False, label=\"$l=$ \"+str(2))\n",
    "ax.plot(rhoR[:, 0], rhoR[:, 4], marker = 'v', markersize = 3.0, markerfacecolor=\"w\", linewidth = 1.0, clip_on=False, label=\"$l=$ \"+str(3))\n",
    "if l > 4:\n",
    "    ax.plot(rhoR[:, 0], rhoR[:, 5], marker = '^', markersize = 3.0, markerfacecolor=\"w\", linewidth = 1.0, clip_on=False, label=\"$l=$ \"+str(4))\n",
    "if l > 5:\n",
    "    ax.plot(rhoR[:, 0], rhoR[:, 6], marker = 'H', markersize = 3.0, markerfacecolor=\"w\", linewidth = 1.0, clip_on=False, label=\"$l=$ \"+str(5))\n",
    "\n",
    "ax.set_xlim(0.0, 2.0)\n",
    "ax.set_ylim(0.0, 1.0)\n",
    "ax.set_xlabel(r\"$\\beta$\")\n",
    "ax.set_ylabel(r\"$\\rho_r^l$\")\n",
    "if net_label < 9:\n",
    "    ax.legend(loc=0, edgecolor = \"black\", handlelength=1.0, fontsize=8, frameon=True, fancybox=False)\n",
    "else:\n",
    "    ax.legend(loc=0, edgecolor = \"black\", ncol = 2, columnspacing=0.75, handletextpad=0.5, labelspacing=0.1, handlelength=1.0, fontsize=8, frameon=True, fancybox=False)\n",
    "ax.set_title(r\"\\textbf{(a)} NRDC$_{+}$\", loc='center', y=-0.55, fontsize=12)\n",
    "\n",
    "ax = axs[1]\n",
    "ax.plot(rhoR_prune[:, 0], rhoR[:, 1], marker = 'o', markersize = 3.0, markerfacecolor=\"w\", linewidth = 1.0, clip_on=False, label=\"$l=$ \"+str(0))\n",
    "ax.plot(rhoR_prune[:, 0], rhoR_prune[:, 1], marker = 's', markersize = 3.0, markerfacecolor=\"w\", linewidth = 1.0, clip_on=False, label=\"$l=$ \"+str(1))\n",
    "ax.plot(rhoR_prune[:, 0], rhoR_prune[:, 2], marker = 'D', markersize = 3.0, markerfacecolor=\"w\", linewidth = 1.0, clip_on=False, label=\"$l=$ \"+str(2))\n",
    "ax.plot(rhoR_prune[:, 0], rhoR_prune[:, 3], marker = 'v', markersize = 3.0, markerfacecolor=\"w\", linewidth = 1.0, clip_on=False, label=\"$l=$ \"+str(3))\n",
    "if l > 4:\n",
    "    ax.plot(rhoR_prune[:, 0], rhoR_prune[:, 4], marker = '^', markersize = 3.0, markerfacecolor=\"w\", linewidth = 1.0, clip_on=False, label=\"$l=$ \"+str(4))\n",
    "if l > 5:\n",
    "    ax.plot(rhoR_prune[:, 0], rhoR_prune[:, 5], marker = 'H', markersize = 3.0, markerfacecolor=\"w\", linewidth = 1.0, clip_on=False, label=\"$l=$ \"+str(5))\n",
    "\n",
    "ax.set_xlim(0.0, 2.0)\n",
    "ax.set_ylim(0.0, 1.0)\n",
    "ax.set_xlabel(r\"$\\beta$\")\n",
    "ax.set_ylabel(r\"$\\rho_r^l$\")\n",
    "ax.set_title(r\"\\textbf{(b)} NRDC$_{+}^{\\prime}$\", loc='center', y=-0.55, fontsize=12)\n",
    "\n",
    "plt.savefig(\"SIR_rho_vs_beta_\" + filename[net_label] + \"_DC_plus.pdf\")\n",
    "plt.show()"
   ]
  },
  {
   "cell_type": "code",
   "execution_count": null,
   "id": "6bda5ea8",
   "metadata": {},
   "outputs": [],
   "source": []
  }
 ],
 "metadata": {
  "kernelspec": {
   "display_name": "Python 3",
   "language": "python",
   "name": "python3"
  },
  "language_info": {
   "codemirror_mode": {
    "name": "ipython",
    "version": 3
   },
   "file_extension": ".py",
   "mimetype": "text/x-python",
   "name": "python",
   "nbconvert_exporter": "python",
   "pygments_lexer": "ipython3",
   "version": "3.9.6"
  }
 },
 "nbformat": 4,
 "nbformat_minor": 5
}
