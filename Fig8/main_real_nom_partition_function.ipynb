{
 "cells": [
  {
   "cell_type": "code",
   "execution_count": 1,
   "id": "a0532755",
   "metadata": {},
   "outputs": [],
   "source": [
    "import sys\n",
    "sys.path.append('..')  # 添加上级目录到搜索路径\n",
    "from utils import *"
   ]
  },
  {
   "cell_type": "code",
   "execution_count": 2,
   "id": "b9de5085",
   "metadata": {},
   "outputs": [],
   "source": [
    "filename = [\"Blogs\", \"Metabolic\", \"Drosophila\", \"Music\", \"Airports\", \"Proteome\",\\\n",
    "            \"USpowergrid\", \"Gnutella\", \"Words\", \"DBLP\", \"Internet\", \"Enron\"]\n",
    "\n",
    "beta_range = np.logspace(-3, 3, 200)\n",
    "kmin = [2, 2, 2, 2, 2, 2, 2, 2, 2, 2, 2, 2]"
   ]
  },
  {
   "cell_type": "code",
   "execution_count": 3,
   "id": "7840d29b",
   "metadata": {},
   "outputs": [
    {
     "name": "stdout",
     "output_type": "stream",
     "text": [
      "Metabolic\n",
      "6.571030640668524\n",
      "[0.0, 0.5, 0.75, 0.875]\n"
     ]
    }
   ],
   "source": [
    "net_label = 1\n",
    "\n",
    "print(filename[net_label])\n",
    "G = load_graph_data(filename[net_label])\n",
    "N, M = nx.number_of_nodes(G), nx.number_of_edges(G)\n",
    "avk0 = 2*M/N\n",
    "print(avk0)\n",
    "\n",
    "# 设定移除节点比例\n",
    "if N < 10000:\n",
    "    l = 4\n",
    "elif N >= 10000 and N < 20000:\n",
    "    l = 5\n",
    "else:\n",
    "    l = 6\n",
    "q = [1- 1./2**i for i in range(l)]\n",
    "print(q)\n",
    "\n",
    "\n",
    "DC_plus = cal_DC_plus(G)\n",
    "sequence_DC_plus = dict(sorted(DC_plus.items(), key=lambda x: x[1], reverse=False))"
   ]
  },
  {
   "cell_type": "code",
   "execution_count": 4,
   "id": "1ae9a5cc",
   "metadata": {},
   "outputs": [
    {
     "name": "stdout",
     "output_type": "stream",
     "text": [
      "True\n",
      "1436\n",
      "1---: 6.571030640668524\n",
      "True\n",
      "718\n",
      "1---: 8.384401114206128\n",
      "True\n",
      "359\n",
      "1---: 9.710306406685238\n",
      "True\n",
      "180\n",
      "1---: 10.077777777777778\n",
      "True\n",
      "718\n",
      "1---: 8.384401114206128\n",
      "718\n",
      "2---: 6.579387186629527\n",
      "True\n",
      "359\n",
      "1---: 9.710306406685238\n",
      "359\n",
      "2---: 6.579387186629527\n",
      "True\n",
      "180\n",
      "1---: 10.077777777777778\n",
      "180\n",
      "2---: 6.5777777777777775\n"
     ]
    }
   ],
   "source": [
    "# 未剪枝的结果\n",
    "nom_Z_tau = cal_Z_tau_real(G, sequence_DC_plus, N, q, beta_range)\n",
    "\n",
    "# 剪枝的结果\n",
    "nom_Z_tau_prune = cal_Z_tau_real(G, sequence_DC_plus, N, q[1:], beta_range, kmin=kmin[net_label], prune_flag=True)"
   ]
  },
  {
   "cell_type": "code",
   "execution_count": 5,
   "id": "6c1cbdba",
   "metadata": {},
   "outputs": [
    {
     "data": {
      "image/png": "[encoded data removed]",
      "text/plain": [
       "<Figure size 400x175 with 2 Axes>"
      ]
     },
     "metadata": {},
     "output_type": "display_data"
    }
   ],
   "source": [
    "fig, axs = plt.subplots(1, 2, figsize=(4, 1.75), constrained_layout=True)\n",
    "ax = axs[0]\n",
    "ax.plot(beta_range, nom_Z_tau[0], linewidth = 2.0, clip_on=False, label=\"$l =$ \"+str(0))\n",
    "ax.plot(beta_range, nom_Z_tau[1], linewidth = 2.0, clip_on=False, label=\"$l =$ \"+str(1))\n",
    "ax.plot(beta_range, nom_Z_tau[2], linewidth = 2.0, clip_on=False, label=\"$l =$ \"+str(2))\n",
    "ax.plot(beta_range, nom_Z_tau[3], linewidth = 2.0, clip_on=False, label=\"$l =$ \"+str(3))\n",
    "if l > 4:\n",
    "    ax.plot(beta_range, nom_Z_tau[4], linewidth = 2.0, clip_on=False, label=\"$l=$ \"+str(4))            \n",
    "if l > 5:\n",
    "    ax.plot(beta_range, nom_Z_tau[5], linewidth = 2.0, clip_on=False, label=\"$l=$ \"+str(5))  \n",
    "ax.legend(loc=1, edgecolor = \"black\", fontsize=8, labelspacing=0.2, handlelength=0.5, frameon=True, fancybox=False) \n",
    "ax.set_ylabel(r\"$\\bar Z_{\\tau,l}$\")\n",
    "ax.set_xlabel(r\"$\\tau$\")\n",
    "ax.set_xscale(\"log\")\n",
    "ax.set_title(r\"\\textbf{(a)} NRDC$_{+}$\", loc='center', y=-0.55, fontsize=12)\n",
    "\n",
    "\n",
    "ax = axs[1]\n",
    "ax.plot(beta_range, nom_Z_tau[0], linewidth = 2.0, clip_on=False, label=\"$l =$ \"+str(0))\n",
    "ax.plot(beta_range, nom_Z_tau_prune[0], linewidth = 2.0, clip_on=False, label=\"$l =$ \"+str(1))\n",
    "ax.plot(beta_range, nom_Z_tau_prune[1], linewidth = 2.0, clip_on=False, label=\"$l =$ \"+str(2))\n",
    "ax.plot(beta_range, nom_Z_tau_prune[2], linewidth = 2.0, clip_on=False, label=\"$l =$ \"+str(3))\n",
    "if l > 4:\n",
    "    ax.plot(beta_range, nom_Z_tau_prune[3], linewidth = 2.0, clip_on=False, label=\"$l=$ \"+str(4))            \n",
    "if l > 5:\n",
    "    ax.plot(beta_range, nom_Z_tau_prune[4], linewidth = 2.0, clip_on=False, label=\"$l=$ \"+str(5))  \n",
    "\n",
    "ax.set_ylabel(r\"$\\bar Z_{\\tau,l}$\")\n",
    "ax.set_xlabel(r\"$\\tau$\")\n",
    "ax.set_xscale(\"log\")\n",
    "ax.set_title(r\"\\textbf{(b)} NRDC$_{+}^{\\prime}$\", loc='center', y=-0.55, fontsize=12)\n",
    "\n",
    "plt.savefig(filename[net_label] + \"_nom_partition_function_DC_plus.pdf\")\n",
    "plt.show()"
   ]
  },
  {
   "cell_type": "code",
   "execution_count": null,
   "id": "201c6bf4",
   "metadata": {},
   "outputs": [],
   "source": []
  }
 ],
 "metadata": {
  "kernelspec": {
   "display_name": "complex_network",
   "language": "python",
   "name": "python3"
  },
  "language_info": {
   "codemirror_mode": {
    "name": "ipython",
    "version": 3
   },
   "file_extension": ".py",
   "mimetype": "text/x-python",
   "name": "python",
   "nbconvert_exporter": "python",
   "pygments_lexer": "ipython3",
   "version": "3.9.16"
  }
 },
 "nbformat": 4,
 "nbformat_minor": 5
}
