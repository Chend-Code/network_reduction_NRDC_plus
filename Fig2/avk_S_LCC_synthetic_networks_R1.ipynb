{
 "cells": [
  {
   "cell_type": "code",
   "execution_count": 6,
   "id": "45ffdfd9",
   "metadata": {},
   "outputs": [],
   "source": [
    "import sys\n",
    "sys.path.append('..')  # 添加上级目录到搜索路径\n",
    "from utils import *"
   ]
  },
  {
   "cell_type": "code",
   "execution_count": 7,
   "id": "df80df8e",
   "metadata": {},
   "outputs": [
    {
     "name": "stdout",
     "output_type": "stream",
     "text": [
      "[0.  0.1 0.2 0.3 0.4 0.5 0.6 0.7 0.8 0.9]\n"
     ]
    }
   ],
   "source": [
    "# 设定移除节点比例\n",
    "q = np.linspace(0, 0.9, 10)\n",
    "print(q)\n",
    "\n",
    "N = 100000\n",
    "M = 5*N\n",
    "m = 5"
   ]
  },
  {
   "cell_type": "code",
   "execution_count": 8,
   "id": "81997c77",
   "metadata": {},
   "outputs": [],
   "source": [
    "avk_er = np.zeros(10)\n",
    "SLCC_er = np.zeros(10)\n",
    "\n",
    "avk_ba = np.zeros(10)\n",
    "SLCC_ba = np.zeros(10)\n",
    "\n",
    "samples = 1 # 10个独立样本的统计平均值\n",
    "for i in range(samples):\n",
    "    G_er = nx.gnm_random_graph(N, M)\n",
    "    avk0_er = 2*nx.number_of_edges(G_er)/nx.number_of_nodes(G_er)\n",
    "\n",
    "    # 将加强度中心性值从小到大升序排序\n",
    "    DC_plus_er = cal_DC_plus(G_er)\n",
    "    sequence_er = dict(sorted(DC_plus_er.items(), key=lambda x: x[1], reverse=False))\n",
    "\n",
    "    y1, y2 = cal_avk_S_LCC(G_er, sequence_er, N, q, avk0_er)\n",
    "    avk_er += y1\n",
    "    SLCC_er += y2\n",
    "\n",
    "\n",
    "    G_ba = nx.barabasi_albert_graph(N, m)\n",
    "    avk0_ba = 2*nx.number_of_edges(G_ba)/nx.number_of_nodes(G_ba)\n",
    "\n",
    "    DC_plus_ba = cal_DC_plus(G_ba)\n",
    "    sequence_ba = dict(sorted(DC_plus_ba.items(), key=lambda x: x[1], reverse=False))\n",
    "    y11, y22 = cal_avk_S_LCC(G_ba, sequence_ba, N, q, avk0_ba)\n",
    "\n",
    "    avk_ba += y11\n",
    "    SLCC_ba += y22"
   ]
  },
  {
   "cell_type": "code",
   "execution_count": 9,
   "id": "a19d65cc",
   "metadata": {},
   "outputs": [],
   "source": [
    "font_size = 18\n",
    "plt.rc('xtick', labelsize=font_size)\n",
    "plt.rc('ytick', labelsize=font_size)"
   ]
  },
  {
   "cell_type": "code",
   "execution_count": 10,
   "id": "f2876a9f",
   "metadata": {},
   "outputs": [
    {
     "data": {
      "image/png": "[encoded data removed]",
      "text/plain": [
       "<Figure size 600x240 with 2 Axes>"
      ]
     },
     "metadata": {},
     "output_type": "display_data"
    }
   ],
   "source": [
    "# 创建图形和子图\n",
    "fig, axs = plt.subplots(1, 2, figsize=(6, 2.4), constrained_layout=True)\n",
    "\n",
    "# 定义柱状图宽度\n",
    "width = 0.03\n",
    "\n",
    "# 左侧子图：平均度\n",
    "ax = axs[0]\n",
    "x_positions_ba = q - width/2  # BA模型柱子位置\n",
    "x_positions_er = q + width/2  # ER模型柱子位置\n",
    "\n",
    "ax.bar(x_positions_ba, avk_ba/samples, width=width, \n",
    "                color='blue', edgecolor='black', alpha=0.7, label=\"BA\")\n",
    "ax.bar(x_positions_er, avk_er/samples, width=width, \n",
    "                color='red', edgecolor='black', alpha=0.7, label=\"ER\")\n",
    "ax.plot(np.linspace(-0.1, 1.0, 1000), np.ones(1000), \"k--\", linewidth=1.0)\n",
    "\n",
    "ax.set_xlim(-0.1, 1.00)\n",
    "ax.set_xticks([0.00, 0.50, 1.00])\n",
    "ax.set_ylim(0.0, 1.3)\n",
    "ax.set_yticks([0.00, 0.50, 1.00])\n",
    "ax.set_xlabel(\"$q$\", fontsize=font_size)\n",
    "ax.set_ylabel(r\"$\\langle k \\rangle_s / \\langle k \\rangle_0$\", fontsize=font_size)\n",
    "ax.set_title(r\"\\textbf{(a)}\", loc='center', y=-0.55, fontsize=font_size)\n",
    "ax.legend(loc=0, ncol=2, columnspacing=0.8, markerscale=0.3, handlelength=1.0, edgecolor=\"black\", fontsize=8, frameon=True, fancybox=False)\n",
    "\n",
    "\n",
    "# 右侧子图：最大连通分量\n",
    "ax = axs[1]\n",
    "ax.bar(x_positions_ba, SLCC_ba/samples, width=width, \n",
    "                     color='blue', edgecolor='black', alpha=0.7)\n",
    "ax.bar(x_positions_er, SLCC_er/samples, width=width, \n",
    "                     color='red', edgecolor='black', alpha=0.7)\n",
    "ax.plot(np.linspace(-0.1, 1.0, 1000), np.ones(1000), \"k--\", linewidth=1.0)\n",
    "\n",
    "ax.set_xlim(-0.1, 1.0)\n",
    "ax.set_xticks([0.00, 0.50, 1.0])\n",
    "ax.set_ylim(0.0, 1.3)\n",
    "ax.set_yticks([0.00, 0.50, 1.00])\n",
    "ax.set_xlabel(\"$q$\", fontsize=font_size)\n",
    "ax.set_ylabel(r\"$S_{LCC}$\", fontsize=font_size)\n",
    "ax.set_title(r\"\\textbf{(b)}\", loc='center', y=-0.55, fontsize=font_size)\n",
    "\n",
    "plt.savefig(\"Fig2_R1.pdf\")\n",
    "plt.show()"
   ]
  },
  {
   "cell_type": "code",
   "execution_count": null,
   "id": "3ea7d1bc",
   "metadata": {},
   "outputs": [],
   "source": []
  }
 ],
 "metadata": {
  "kernelspec": {
   "display_name": "complex_network",
   "language": "python",
   "name": "python3"
  },
  "language_info": {
   "codemirror_mode": {
    "name": "ipython",
    "version": 3
   },
   "file_extension": ".py",
   "mimetype": "text/x-python",
   "name": "python",
   "nbconvert_exporter": "python",
   "pygments_lexer": "ipython3",
   "version": "3.9.16"
  }
 },
 "nbformat": 4,
 "nbformat_minor": 5
}
