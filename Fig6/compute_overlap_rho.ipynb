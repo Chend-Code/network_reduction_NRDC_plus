{
 "cells": [
  {
   "cell_type": "code",
   "execution_count": 1,
   "id": "b0b8ef26",
   "metadata": {},
   "outputs": [],
   "source": [
    "import sys\n",
    "sys.path.append('..')  # 添加上级目录到搜索路径\n",
    "from utils import *"
   ]
  },
  {
   "cell_type": "markdown",
   "id": "56d53f84",
   "metadata": {},
   "source": [
    "### ER and BA"
   ]
  },
  {
   "cell_type": "code",
   "execution_count": 2,
   "id": "3c4aa6c1",
   "metadata": {},
   "outputs": [],
   "source": [
    "# # data = np.loadtxt(\"./SIR_rho_vs_beta/SIR_rho_vs_beta_ER_DC_plus.dat\")\n",
    "# data = np.loadtxt(\"./SIR_rho_vs_beta/SIR_rho_vs_beta_BA_DC_plus.dat\")"
   ]
  },
  {
   "cell_type": "code",
   "execution_count": 3,
   "id": "0b3c669a",
   "metadata": {},
   "outputs": [],
   "source": [
    "# x = data[:, 0] # beta值\n",
    "# y1 = data[:, 1] # 初始网络的传播能力(l=0)\n",
    "\n",
    "# # y2 = data[:, 2] # 子网络的传播能力(l=1)\n",
    "# # y2 = data[:, 3] # 子网络的传播能力(l=2)\n",
    "# y2 = data[:, 4] # 子网络的传播能力(l=3)\n",
    "\n",
    "\n",
    "# # 计算y1和y2之间的重叠程度\n",
    "# overlap_12 = compute_overlap(x, y1, y2)\n",
    "# print(f'RNDC_plus: {overlap_12:.4f}')"
   ]
  },
  {
   "cell_type": "markdown",
   "id": "270f9c88",
   "metadata": {},
   "source": [
    "### Real networks"
   ]
  },
  {
   "cell_type": "code",
   "execution_count": 4,
   "id": "dfa2a34c",
   "metadata": {},
   "outputs": [],
   "source": [
    "filename = [\"Blogs\", \"Metabolic\", \"Drosophila\", \"Music\", \"Airports\", \"Proteome\",\\\n",
    "            \"USpowergrid\", \"Gnutella\", \"Words\", \"DBLP\", \"Internet\", \"Enron\"]"
   ]
  },
  {
   "cell_type": "code",
   "execution_count": null,
   "id": "4d5faa8d",
   "metadata": {},
   "outputs": [
    {
     "name": "stdout",
     "output_type": "stream",
     "text": [
      "Blogs\n",
      "RNDC_plus: 0.7982\n",
      "RNDC_plus_prune: 0.9657\n",
      "Metabolic\n",
      "RNDC_plus: 0.7794\n",
      "RNDC_plus_prune: 0.9489\n",
      "Drosophila\n",
      "RNDC_plus: 0.6982\n",
      "RNDC_plus_prune: 0.9142\n",
      "Music\n",
      "RNDC_plus: 0.7448\n",
      "RNDC_plus_prune: 0.9620\n",
      "Airports\n",
      "RNDC_plus: 0.6282\n",
      "RNDC_plus_prune: 0.9551\n",
      "Proteome\n",
      "RNDC_plus: 0.6450\n",
      "RNDC_plus_prune: 0.9165\n",
      "USpowergrid\n",
      "RNDC_plus: 0.8331\n",
      "RNDC_plus_prune: 0.9210\n",
      "Gnutella\n",
      "RNDC_plus: 0.7610\n",
      "RNDC_plus_prune: 0.9221\n",
      "Words\n",
      "RNDC_plus: 0.7003\n",
      "RNDC_plus_prune: 0.9616\n",
      "DBLP\n",
      "RNDC_plus: 0.6706\n",
      "RNDC_plus_prune: 0.9304\n",
      "Internet\n",
      "RNDC_plus: 0.6972\n",
      "RNDC_plus_prune: 0.9143\n",
      "Enron\n",
      "RNDC_plus: 0.6509\n",
      "RNDC_plus_prune: 0.9711\n"
     ]
    }
   ],
   "source": [
    "l = 3  # 子网络: l=1, 2, 3\n",
    "for net_label in range(12):\n",
    "    print(filename[net_label])\n",
    "    G = load_graph_data(filename[net_label])\n",
    "    N = len(G)\n",
    "\n",
    "    # 未对子网络进行剪枝处理\n",
    "    data = np.loadtxt(\"./SIR_rho_vs_beta/SIR_rho_vs_beta_\"+filename[net_label]+ \"_DC_plus.dat\")\n",
    "    # print(data)\n",
    "\n",
    "    x = data[:, 0] # beta值\n",
    "    y1 = data[:, 1] # 初始网络的传播能力(l=0)\n",
    "\n",
    "\n",
    "\n",
    "    y2 = data[:, l+1]  # 子网络G_l的传播能力\n",
    "    # 计算y1和y2之间的重叠程度\n",
    "    overlap_12 = compute_overlap(x, y1, y2)\n",
    "    print(f'RNDC_plus: {overlap_12:.4f}')\n",
    "\n",
    "\n",
    "    # 对子网络进行剪枝处理\n",
    "    data_prune = np.loadtxt(\"./SIR_rho_vs_beta/kmin2/SIR_rho_vs_beta_prune_\"+filename[net_label]+ \"_DC_plus.dat\")\n",
    "    y2_prune = data_prune[:, l] # 子网络G_l在剪枝处理后的传播能力\n",
    "    overlap_12_prune = compute_overlap(x, y1, y2_prune)\n",
    "    print(f'RNDC_plus_prune: {overlap_12_prune:.4f}')\n"
   ]
  }
 ],
 "metadata": {
  "kernelspec": {
   "display_name": "complex_network",
   "language": "python",
   "name": "python3"
  },
  "language_info": {
   "codemirror_mode": {
    "name": "ipython",
    "version": 3
   },
   "file_extension": ".py",
   "mimetype": "text/x-python",
   "name": "python",
   "nbconvert_exporter": "python",
   "pygments_lexer": "ipython3",
   "version": "3.9.16"
  }
 },
 "nbformat": 4,
 "nbformat_minor": 5
}
