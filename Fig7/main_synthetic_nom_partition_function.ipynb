{
 "cells": [
  {
   "cell_type": "code",
   "execution_count": 1,
   "id": "e6f29073",
   "metadata": {},
   "outputs": [],
   "source": [
    "import sys\n",
    "sys.path.append('..')  # 添加上级目录到搜索路径\n",
    "from utils import *"
   ]
  },
  {
   "cell_type": "code",
   "execution_count": 2,
   "id": "29852ad7",
   "metadata": {},
   "outputs": [
    {
     "name": "stdout",
     "output_type": "stream",
     "text": [
      "[0.0, 0.5, 0.75, 0.875]\n"
     ]
    }
   ],
   "source": [
    "N = 5000\n",
    "M = 5*N\n",
    "m = 5\n",
    "\n",
    "# 设定移除节点比例\n",
    "l = 4\n",
    "# 设定移除节点比例\n",
    "q = [1- 1./2**i for i in range(l)]\n",
    "print(q)"
   ]
  },
  {
   "cell_type": "code",
   "execution_count": null,
   "id": "c7fabfcb",
   "metadata": {},
   "outputs": [
    {
     "name": "stdout",
     "output_type": "stream",
     "text": [
      "=========\n"
     ]
    },
    {
     "name": "stderr",
     "output_type": "stream",
     "text": [
      "<class 'networkx.utils.decorators.argmap'> compilation 12:4: FutureWarning: laplacian_matrix will return a scipy.sparse array instead of a matrix in Networkx 3.0.\n"
     ]
    },
    {
     "name": "stdout",
     "output_type": "stream",
     "text": [
      "=========\n",
      "=========\n",
      "=========\n",
      "=========\n",
      "=========\n",
      "=========\n",
      "=========\n",
      "=========\n",
      "=========\n"
     ]
    }
   ],
   "source": [
    "beta_range = np.logspace(-3, 3, 200)\n",
    "nom_Z_tau1 = np.zeros((len(beta_range), l))\n",
    "nom_Z_tau2 = np.zeros((len(beta_range), l))\n",
    "samples = 10\n",
    "for i in range(samples):\n",
    "    print(\"=========\")\n",
    "    G1 = nx.gnm_random_graph(N, M)\n",
    "    DC_plus1 = cal_DC_plus(G1)\n",
    "    sequence_DC_plus1 = dict(sorted(DC_plus1.items(), key=lambda x: x[1], reverse=False))\n",
    "\n",
    "    nom_Z_tau_i1 = cal_Z_tau_synthetic(G1, sequence_DC_plus1, N, q, beta_range)\n",
    "    nom_Z_tau1 += np.array(nom_Z_tau_i1).T\n",
    "\n",
    "\n",
    "    G2 = nx.barabasi_albert_graph(N, m)\n",
    "    DC_plus2 = cal_DC_plus(G2)\n",
    "    sequence_DC_plus2 = dict(sorted(DC_plus2.items(), key=lambda x: x[1], reverse=False))\n",
    "\n",
    "    nom_Z_tau_i2 = cal_Z_tau_synthetic(G2, sequence_DC_plus2, N, q, beta_range)\n",
    "    nom_Z_tau2 += np.array(nom_Z_tau_i2).T"
   ]
  },
  {
   "cell_type": "code",
   "execution_count": null,
   "id": "838356d6",
   "metadata": {},
   "outputs": [
    {
     "data": {
      "image/png": "[encoded data removed]",
      "text/plain": [
       "<Figure size 400x175 with 2 Axes>"
      ]
     },
     "metadata": {},
     "output_type": "display_data"
    }
   ],
   "source": [
    "fig, axs = plt.subplots(1, 2, figsize=(4, 1.75), constrained_layout=True)\n",
    "ax = axs[0]\n",
    "ax.plot(beta_range, nom_Z_tau1[:, 0]/samples, linewidth = 2.0, clip_on=False, label=\"$l =$ \"+str(0))\n",
    "ax.plot(beta_range, nom_Z_tau1[:, 1]/samples, linewidth = 2.0, clip_on=False, label=\"$l =$ \"+str(1))\n",
    "ax.plot(beta_range, nom_Z_tau1[:, 2]/samples, linewidth = 2.0, clip_on=False, label=\"$l =$ \"+str(2))\n",
    "ax.plot(beta_range, nom_Z_tau1[:, 3]/samples, linewidth = 2.0, clip_on=False, label=\"$l =$ \"+str(3))\n",
    "ax.legend(loc=1, edgecolor = \"black\", fontsize=8, labelspacing=0.2, handlelength=0.5, frameon=True, fancybox=False) \n",
    "ax.set_ylabel(r\"$\\bar Z_{\\tau, l}$\")\n",
    "ax.set_xlabel(r\"$\\tau$\")\n",
    "ax.set_xscale(\"log\")\n",
    "ax.set_title(r\"\\textbf{(a)} ER\", loc='center', y=-0.55, fontsize=12)\n",
    "\n",
    "\n",
    "ax = axs[1]\n",
    "ax.plot(beta_range, nom_Z_tau2[:, 0]/samples, linewidth = 2.0, clip_on=False, label=\"$l =$ \"+str(0))\n",
    "ax.plot(beta_range, nom_Z_tau2[:, 1]/samples, linewidth = 2.0, clip_on=False, label=\"$l =$ \"+str(1))\n",
    "ax.plot(beta_range, nom_Z_tau2[:, 2]/samples, linewidth = 2.0, clip_on=False, label=\"$l =$ \"+str(2))\n",
    "ax.plot(beta_range, nom_Z_tau2[:, 3]/samples, linewidth = 2.0, clip_on=False, label=\"$l =$ \"+str(3))\n",
    "ax.set_ylabel(r\"$\\bar Z_{\\tau, l}$\")\n",
    "ax.set_xlabel(r\"$\\tau$\")\n",
    "ax.set_xscale(\"log\")\n",
    "ax.set_title(r\"\\textbf{(b)} BA\", loc='center', y=-0.55, fontsize=12)\n",
    "\n",
    "plt.savefig(\"Fig7_ER_BA_nom_partition_function_DC_plus.pdf\")\n",
    "plt.show()"
   ]
  },
  {
   "cell_type": "code",
   "execution_count": null,
   "id": "82d2ee46",
   "metadata": {},
   "outputs": [],
   "source": []
  }
 ],
 "metadata": {
  "kernelspec": {
   "display_name": "Python 3",
   "language": "python",
   "name": "python3"
  },
  "language_info": {
   "codemirror_mode": {
    "name": "ipython",
    "version": 3
   },
   "file_extension": ".py",
   "mimetype": "text/x-python",
   "name": "python",
   "nbconvert_exporter": "python",
   "pygments_lexer": "ipython3",
   "version": "3.9.6"
  }
 },
 "nbformat": 4,
 "nbformat_minor": 5
}
